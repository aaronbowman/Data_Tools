{
  "nbformat": 4,
  "nbformat_minor": 0,
  "metadata": {
    "colab": {
      "name": "Consolidated_Data_Tools (non-effect).ipynb",
      "provenance": [],
      "collapsed_sections": [],
      "include_colab_link": true
    },
    "kernelspec": {
      "name": "python3",
      "display_name": "Python 3"
    },
    "language_info": {
      "name": "python"
    },
    "widgets": {
      "application/vnd.jupyter.widget-state+json": {
        "acbb72c84f7147dca8ca0221d2af32d0": {
          "model_module": "@jupyter-widgets/controls",
          "model_name": "VBoxModel",
          "model_module_version": "1.5.0",
          "state": {
            "_view_name": "VBoxView",
            "_dom_classes": [
              "widget-interact"
            ],
            "_model_name": "VBoxModel",
            "_view_module": "@jupyter-widgets/controls",
            "_model_module_version": "1.5.0",
            "_view_count": null,
            "_view_module_version": "1.5.0",
            "box_style": "",
            "layout": "IPY_MODEL_305b5fb18c52454389d8e1602a767506",
            "_model_module": "@jupyter-widgets/controls",
            "children": [
              "IPY_MODEL_d023eef5a1fb4ae38c50ff144b7c0706",
              "IPY_MODEL_b1a5f589030f49b78a29f638de86d4e5",
              "IPY_MODEL_f1ffaae578804b16a91f0e088c90e893"
            ]
          }
        },
        "305b5fb18c52454389d8e1602a767506": {
          "model_module": "@jupyter-widgets/base",
          "model_name": "LayoutModel",
          "model_module_version": "1.2.0",
          "state": {
            "_view_name": "LayoutView",
            "grid_template_rows": null,
            "right": null,
            "justify_content": null,
            "_view_module": "@jupyter-widgets/base",
            "overflow": null,
            "_model_module_version": "1.2.0",
            "_view_count": null,
            "flex_flow": null,
            "width": null,
            "min_width": null,
            "border": null,
            "align_items": null,
            "bottom": null,
            "_model_module": "@jupyter-widgets/base",
            "top": null,
            "grid_column": null,
            "overflow_y": null,
            "overflow_x": null,
            "grid_auto_flow": null,
            "grid_area": null,
            "grid_template_columns": null,
            "flex": null,
            "_model_name": "LayoutModel",
            "justify_items": null,
            "grid_row": null,
            "max_height": null,
            "align_content": null,
            "visibility": null,
            "align_self": null,
            "height": null,
            "min_height": null,
            "padding": null,
            "grid_auto_rows": null,
            "grid_gap": null,
            "max_width": null,
            "order": null,
            "_view_module_version": "1.2.0",
            "grid_template_areas": null,
            "object_position": null,
            "object_fit": null,
            "grid_auto_columns": null,
            "margin": null,
            "display": null,
            "left": null
          }
        },
        "d023eef5a1fb4ae38c50ff144b7c0706": {
          "model_module": "@jupyter-widgets/controls",
          "model_name": "DropdownModel",
          "model_module_version": "1.5.0",
          "state": {
            "_options_labels": [
              "All",
              "AltaLink",
              "BHE",
              "BHE GT&S",
              "BHE Renewables",
              "BHE U.S. Transmissio",
              "CalEnergy",
              "HomeServices of Amer",
              "Kern River Gas Trans",
              "MidAmerican Energy",
              "MidAmerican Services",
              "NV Energy",
              "Northen Natural Gas",
              "Northern Powergrid",
              "PacifiCorp",
              "Pacific Power",
              "Rocky Mountain Power"
            ],
            "_view_name": "DropdownView",
            "style": "IPY_MODEL_1396d1d2e925458ebe799668608e406d",
            "_dom_classes": [],
            "description": "parent_tag",
            "_model_name": "DropdownModel",
            "index": 9,
            "_view_module": "@jupyter-widgets/controls",
            "_model_module_version": "1.5.0",
            "_view_count": null,
            "disabled": false,
            "_view_module_version": "1.5.0",
            "description_tooltip": null,
            "_model_module": "@jupyter-widgets/controls",
            "layout": "IPY_MODEL_37be59c51ba34d75b179a262e1a01269"
          }
        },
        "b1a5f589030f49b78a29f638de86d4e5": {
          "model_module": "@jupyter-widgets/controls",
          "model_name": "DropdownModel",
          "model_module_version": "1.5.0",
          "state": {
            "_options_labels": [
              "5a. Key Projects",
              "5b. Regulatory",
              "5c. Wind Energy",
              "5d. Solar Energy",
              "5e. Environment",
              "5f. CO2 Emissions In",
              "5g. Transmission",
              "5h. Customer Service",
              "5i. Safety",
              "5j. Power Outage",
              "5k. Community Relati",
              "5l. Security",
              "5m. Energy Efficienc",
              "5n. Other",
              "5o. Other Renewables",
              "5p. All Renewables",
              "Primary"
            ],
            "_view_name": "DropdownView",
            "style": "IPY_MODEL_0978682d921f48f992a5c36191edad08",
            "_dom_classes": [],
            "description": "message_tag",
            "_model_name": "DropdownModel",
            "index": 9,
            "_view_module": "@jupyter-widgets/controls",
            "_model_module_version": "1.5.0",
            "_view_count": null,
            "disabled": false,
            "_view_module_version": "1.5.0",
            "description_tooltip": null,
            "_model_module": "@jupyter-widgets/controls",
            "layout": "IPY_MODEL_8426baf27b914c808d629672cf324912"
          }
        },
        "f1ffaae578804b16a91f0e088c90e893": {
          "model_module": "@jupyter-widgets/output",
          "model_name": "OutputModel",
          "model_module_version": "1.0.0",
          "state": {
            "_view_name": "OutputView",
            "msg_id": "",
            "_dom_classes": [],
            "_model_name": "OutputModel",
            "outputs": [
              {
                "output_type": "display_data",
                "data": {
                  "image/png": "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\n",
                  "text/plain": "<Figure size 1000x800 with 1 Axes>"
                },
                "metadata": {
                  "needs_background": "light"
                }
              }
            ],
            "_view_module": "@jupyter-widgets/output",
            "_model_module_version": "1.0.0",
            "_view_count": null,
            "_view_module_version": "1.0.0",
            "layout": "IPY_MODEL_48477b12f6714f7da9d4e6a5ff136ac2",
            "_model_module": "@jupyter-widgets/output"
          }
        },
        "1396d1d2e925458ebe799668608e406d": {
          "model_module": "@jupyter-widgets/controls",
          "model_name": "DescriptionStyleModel",
          "model_module_version": "1.5.0",
          "state": {
            "_view_name": "StyleView",
            "_model_name": "DescriptionStyleModel",
            "description_width": "",
            "_view_module": "@jupyter-widgets/base",
            "_model_module_version": "1.5.0",
            "_view_count": null,
            "_view_module_version": "1.2.0",
            "_model_module": "@jupyter-widgets/controls"
          }
        },
        "37be59c51ba34d75b179a262e1a01269": {
          "model_module": "@jupyter-widgets/base",
          "model_name": "LayoutModel",
          "model_module_version": "1.2.0",
          "state": {
            "_view_name": "LayoutView",
            "grid_template_rows": null,
            "right": null,
            "justify_content": null,
            "_view_module": "@jupyter-widgets/base",
            "overflow": null,
            "_model_module_version": "1.2.0",
            "_view_count": null,
            "flex_flow": null,
            "width": null,
            "min_width": null,
            "border": null,
            "align_items": null,
            "bottom": null,
            "_model_module": "@jupyter-widgets/base",
            "top": null,
            "grid_column": null,
            "overflow_y": null,
            "overflow_x": null,
            "grid_auto_flow": null,
            "grid_area": null,
            "grid_template_columns": null,
            "flex": null,
            "_model_name": "LayoutModel",
            "justify_items": null,
            "grid_row": null,
            "max_height": null,
            "align_content": null,
            "visibility": null,
            "align_self": null,
            "height": null,
            "min_height": null,
            "padding": null,
            "grid_auto_rows": null,
            "grid_gap": null,
            "max_width": null,
            "order": null,
            "_view_module_version": "1.2.0",
            "grid_template_areas": null,
            "object_position": null,
            "object_fit": null,
            "grid_auto_columns": null,
            "margin": null,
            "display": null,
            "left": null
          }
        },
        "0978682d921f48f992a5c36191edad08": {
          "model_module": "@jupyter-widgets/controls",
          "model_name": "DescriptionStyleModel",
          "model_module_version": "1.5.0",
          "state": {
            "_view_name": "StyleView",
            "_model_name": "DescriptionStyleModel",
            "description_width": "",
            "_view_module": "@jupyter-widgets/base",
            "_model_module_version": "1.5.0",
            "_view_count": null,
            "_view_module_version": "1.2.0",
            "_model_module": "@jupyter-widgets/controls"
          }
        },
        "8426baf27b914c808d629672cf324912": {
          "model_module": "@jupyter-widgets/base",
          "model_name": "LayoutModel",
          "model_module_version": "1.2.0",
          "state": {
            "_view_name": "LayoutView",
            "grid_template_rows": null,
            "right": null,
            "justify_content": null,
            "_view_module": "@jupyter-widgets/base",
            "overflow": null,
            "_model_module_version": "1.2.0",
            "_view_count": null,
            "flex_flow": null,
            "width": null,
            "min_width": null,
            "border": null,
            "align_items": null,
            "bottom": null,
            "_model_module": "@jupyter-widgets/base",
            "top": null,
            "grid_column": null,
            "overflow_y": null,
            "overflow_x": null,
            "grid_auto_flow": null,
            "grid_area": null,
            "grid_template_columns": null,
            "flex": null,
            "_model_name": "LayoutModel",
            "justify_items": null,
            "grid_row": null,
            "max_height": null,
            "align_content": null,
            "visibility": null,
            "align_self": null,
            "height": null,
            "min_height": null,
            "padding": null,
            "grid_auto_rows": null,
            "grid_gap": null,
            "max_width": null,
            "order": null,
            "_view_module_version": "1.2.0",
            "grid_template_areas": null,
            "object_position": null,
            "object_fit": null,
            "grid_auto_columns": null,
            "margin": null,
            "display": null,
            "left": null
          }
        },
        "48477b12f6714f7da9d4e6a5ff136ac2": {
          "model_module": "@jupyter-widgets/base",
          "model_name": "LayoutModel",
          "model_module_version": "1.2.0",
          "state": {
            "_view_name": "LayoutView",
            "grid_template_rows": null,
            "right": null,
            "justify_content": null,
            "_view_module": "@jupyter-widgets/base",
            "overflow": null,
            "_model_module_version": "1.2.0",
            "_view_count": null,
            "flex_flow": null,
            "width": null,
            "min_width": null,
            "border": null,
            "align_items": null,
            "bottom": null,
            "_model_module": "@jupyter-widgets/base",
            "top": null,
            "grid_column": null,
            "overflow_y": null,
            "overflow_x": null,
            "grid_auto_flow": null,
            "grid_area": null,
            "grid_template_columns": null,
            "flex": null,
            "_model_name": "LayoutModel",
            "justify_items": null,
            "grid_row": null,
            "max_height": null,
            "align_content": null,
            "visibility": null,
            "align_self": null,
            "height": null,
            "min_height": null,
            "padding": null,
            "grid_auto_rows": null,
            "grid_gap": null,
            "max_width": null,
            "order": null,
            "_view_module_version": "1.2.0",
            "grid_template_areas": null,
            "object_position": null,
            "object_fit": null,
            "grid_auto_columns": null,
            "margin": null,
            "display": null,
            "left": null
          }
        },
        "f00172b12f4549a7b6fff86f42977a54": {
          "model_module": "@jupyter-widgets/controls",
          "model_name": "VBoxModel",
          "model_module_version": "1.5.0",
          "state": {
            "_view_name": "VBoxView",
            "_dom_classes": [
              "widget-interact"
            ],
            "_model_name": "VBoxModel",
            "_view_module": "@jupyter-widgets/controls",
            "_model_module_version": "1.5.0",
            "_view_count": null,
            "_view_module_version": "1.5.0",
            "box_style": "",
            "layout": "IPY_MODEL_f46a60c0f57a42adb419827870979f35",
            "_model_module": "@jupyter-widgets/controls",
            "children": [
              "IPY_MODEL_1fdc7a468d8b449792dced48f765d00f",
              "IPY_MODEL_6f0868d555ae41a582104a3b3372e501",
              "IPY_MODEL_3685c3a5ad9c4c42b0958cbd3f30047f"
            ]
          }
        },
        "f46a60c0f57a42adb419827870979f35": {
          "model_module": "@jupyter-widgets/base",
          "model_name": "LayoutModel",
          "model_module_version": "1.2.0",
          "state": {
            "_view_name": "LayoutView",
            "grid_template_rows": null,
            "right": null,
            "justify_content": null,
            "_view_module": "@jupyter-widgets/base",
            "overflow": null,
            "_model_module_version": "1.2.0",
            "_view_count": null,
            "flex_flow": null,
            "width": null,
            "min_width": null,
            "border": null,
            "align_items": null,
            "bottom": null,
            "_model_module": "@jupyter-widgets/base",
            "top": null,
            "grid_column": null,
            "overflow_y": null,
            "overflow_x": null,
            "grid_auto_flow": null,
            "grid_area": null,
            "grid_template_columns": null,
            "flex": null,
            "_model_name": "LayoutModel",
            "justify_items": null,
            "grid_row": null,
            "max_height": null,
            "align_content": null,
            "visibility": null,
            "align_self": null,
            "height": null,
            "min_height": null,
            "padding": null,
            "grid_auto_rows": null,
            "grid_gap": null,
            "max_width": null,
            "order": null,
            "_view_module_version": "1.2.0",
            "grid_template_areas": null,
            "object_position": null,
            "object_fit": null,
            "grid_auto_columns": null,
            "margin": null,
            "display": null,
            "left": null
          }
        },
        "1fdc7a468d8b449792dced48f765d00f": {
          "model_module": "@jupyter-widgets/controls",
          "model_name": "DropdownModel",
          "model_module_version": "1.5.0",
          "state": {
            "_options_labels": [
              "All",
              "All",
              "AltaLink",
              "BHE",
              "BHE GT&S",
              "BHE Renewables",
              "BHE U.S. Transmissio",
              "CalEnergy",
              "HomeServices of Amer",
              "Kern River Gas Trans",
              "MidAmerican Energy",
              "MidAmerican Services",
              "NV Energy",
              "Northen Natural Gas",
              "Northern Powergrid",
              "PacifiCorp",
              "Pacific Power",
              "Rocky Mountain Power"
            ],
            "_view_name": "DropdownView",
            "style": "IPY_MODEL_9e9656edd9f14092b7a584521955c34c",
            "_dom_classes": [],
            "description": "parent_tag",
            "_model_name": "DropdownModel",
            "index": 12,
            "_view_module": "@jupyter-widgets/controls",
            "_model_module_version": "1.5.0",
            "_view_count": null,
            "disabled": false,
            "_view_module_version": "1.5.0",
            "description_tooltip": null,
            "_model_module": "@jupyter-widgets/controls",
            "layout": "IPY_MODEL_d3cac503851344d59f823fc900088070"
          }
        },
        "6f0868d555ae41a582104a3b3372e501": {
          "model_module": "@jupyter-widgets/controls",
          "model_name": "DropdownModel",
          "model_module_version": "1.5.0",
          "state": {
            "_options_labels": [
              "5a. Key Projects",
              "5b. Regulatory",
              "5c. Wind Energy",
              "5d. Solar Energy",
              "5e. Environment",
              "5f. CO2 Emissions In",
              "5g. Transmission",
              "5h. Customer Service",
              "5i. Safety",
              "5j. Power Outage",
              "5k. Community Relati",
              "5l. Security",
              "5m. Energy Efficienc",
              "5n. Other",
              "5o. Other Renewables",
              "5p. All Renewables",
              "Primary"
            ],
            "_view_name": "DropdownView",
            "style": "IPY_MODEL_719a913059224924a2fb265350d4f85c",
            "_dom_classes": [],
            "description": "message_tag",
            "_model_name": "DropdownModel",
            "index": 15,
            "_view_module": "@jupyter-widgets/controls",
            "_model_module_version": "1.5.0",
            "_view_count": null,
            "disabled": false,
            "_view_module_version": "1.5.0",
            "description_tooltip": null,
            "_model_module": "@jupyter-widgets/controls",
            "layout": "IPY_MODEL_506c6d375ff446bcad4b1eab8207eb9f"
          }
        },
        "3685c3a5ad9c4c42b0958cbd3f30047f": {
          "model_module": "@jupyter-widgets/output",
          "model_name": "OutputModel",
          "model_module_version": "1.0.0",
          "state": {
            "_view_name": "OutputView",
            "msg_id": "",
            "_dom_classes": [],
            "_model_name": "OutputModel",
            "outputs": [
              {
                "output_type": "stream",
                "name": "stdout",
                "text": [
                  "Target value = Positive \n",
                  " r =  -0.002675241179683756 \n",
                  " p =  0.9799214181309592 \n",
                  " s =  0.0012620600348276052\n",
                  "Target value = Netural \n",
                  " r =  0.08162925332971678 \n",
                  " p =  0.4417663782468654 \n",
                  " s =  0.0008244739038410435\n",
                  "Target value = Negative \n",
                  " r =  0.0 \n",
                  " p =  1.0 \n",
                  " s =  0.0\n"
                ]
              },
              {
                "output_type": "display_data",
                "data": {
                  "image/png": "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\n",
                  "text/plain": "<Figure size 1000x800 with 1 Axes>"
                },
                "metadata": {
                  "needs_background": "light"
                }
              }
            ],
            "_view_module": "@jupyter-widgets/output",
            "_model_module_version": "1.0.0",
            "_view_count": null,
            "_view_module_version": "1.0.0",
            "layout": "IPY_MODEL_209d6600eb7f49679ea22b676d916278",
            "_model_module": "@jupyter-widgets/output"
          }
        },
        "9e9656edd9f14092b7a584521955c34c": {
          "model_module": "@jupyter-widgets/controls",
          "model_name": "DescriptionStyleModel",
          "model_module_version": "1.5.0",
          "state": {
            "_view_name": "StyleView",
            "_model_name": "DescriptionStyleModel",
            "description_width": "",
            "_view_module": "@jupyter-widgets/base",
            "_model_module_version": "1.5.0",
            "_view_count": null,
            "_view_module_version": "1.2.0",
            "_model_module": "@jupyter-widgets/controls"
          }
        },
        "d3cac503851344d59f823fc900088070": {
          "model_module": "@jupyter-widgets/base",
          "model_name": "LayoutModel",
          "model_module_version": "1.2.0",
          "state": {
            "_view_name": "LayoutView",
            "grid_template_rows": null,
            "right": null,
            "justify_content": null,
            "_view_module": "@jupyter-widgets/base",
            "overflow": null,
            "_model_module_version": "1.2.0",
            "_view_count": null,
            "flex_flow": null,
            "width": null,
            "min_width": null,
            "border": null,
            "align_items": null,
            "bottom": null,
            "_model_module": "@jupyter-widgets/base",
            "top": null,
            "grid_column": null,
            "overflow_y": null,
            "overflow_x": null,
            "grid_auto_flow": null,
            "grid_area": null,
            "grid_template_columns": null,
            "flex": null,
            "_model_name": "LayoutModel",
            "justify_items": null,
            "grid_row": null,
            "max_height": null,
            "align_content": null,
            "visibility": null,
            "align_self": null,
            "height": null,
            "min_height": null,
            "padding": null,
            "grid_auto_rows": null,
            "grid_gap": null,
            "max_width": null,
            "order": null,
            "_view_module_version": "1.2.0",
            "grid_template_areas": null,
            "object_position": null,
            "object_fit": null,
            "grid_auto_columns": null,
            "margin": null,
            "display": null,
            "left": null
          }
        },
        "719a913059224924a2fb265350d4f85c": {
          "model_module": "@jupyter-widgets/controls",
          "model_name": "DescriptionStyleModel",
          "model_module_version": "1.5.0",
          "state": {
            "_view_name": "StyleView",
            "_model_name": "DescriptionStyleModel",
            "description_width": "",
            "_view_module": "@jupyter-widgets/base",
            "_model_module_version": "1.5.0",
            "_view_count": null,
            "_view_module_version": "1.2.0",
            "_model_module": "@jupyter-widgets/controls"
          }
        },
        "506c6d375ff446bcad4b1eab8207eb9f": {
          "model_module": "@jupyter-widgets/base",
          "model_name": "LayoutModel",
          "model_module_version": "1.2.0",
          "state": {
            "_view_name": "LayoutView",
            "grid_template_rows": null,
            "right": null,
            "justify_content": null,
            "_view_module": "@jupyter-widgets/base",
            "overflow": null,
            "_model_module_version": "1.2.0",
            "_view_count": null,
            "flex_flow": null,
            "width": null,
            "min_width": null,
            "border": null,
            "align_items": null,
            "bottom": null,
            "_model_module": "@jupyter-widgets/base",
            "top": null,
            "grid_column": null,
            "overflow_y": null,
            "overflow_x": null,
            "grid_auto_flow": null,
            "grid_area": null,
            "grid_template_columns": null,
            "flex": null,
            "_model_name": "LayoutModel",
            "justify_items": null,
            "grid_row": null,
            "max_height": null,
            "align_content": null,
            "visibility": null,
            "align_self": null,
            "height": null,
            "min_height": null,
            "padding": null,
            "grid_auto_rows": null,
            "grid_gap": null,
            "max_width": null,
            "order": null,
            "_view_module_version": "1.2.0",
            "grid_template_areas": null,
            "object_position": null,
            "object_fit": null,
            "grid_auto_columns": null,
            "margin": null,
            "display": null,
            "left": null
          }
        },
        "209d6600eb7f49679ea22b676d916278": {
          "model_module": "@jupyter-widgets/base",
          "model_name": "LayoutModel",
          "model_module_version": "1.2.0",
          "state": {
            "_view_name": "LayoutView",
            "grid_template_rows": null,
            "right": null,
            "justify_content": null,
            "_view_module": "@jupyter-widgets/base",
            "overflow": null,
            "_model_module_version": "1.2.0",
            "_view_count": null,
            "flex_flow": null,
            "width": null,
            "min_width": null,
            "border": null,
            "align_items": null,
            "bottom": null,
            "_model_module": "@jupyter-widgets/base",
            "top": null,
            "grid_column": null,
            "overflow_y": null,
            "overflow_x": null,
            "grid_auto_flow": null,
            "grid_area": null,
            "grid_template_columns": null,
            "flex": null,
            "_model_name": "LayoutModel",
            "justify_items": null,
            "grid_row": null,
            "max_height": null,
            "align_content": null,
            "visibility": null,
            "align_self": null,
            "height": null,
            "min_height": null,
            "padding": null,
            "grid_auto_rows": null,
            "grid_gap": null,
            "max_width": null,
            "order": null,
            "_view_module_version": "1.2.0",
            "grid_template_areas": null,
            "object_position": null,
            "object_fit": null,
            "grid_auto_columns": null,
            "margin": null,
            "display": null,
            "left": null
          }
        }
      }
    }
  },
  "cells": [
    {
      "cell_type": "markdown",
      "metadata": {
        "id": "view-in-github",
        "colab_type": "text"
      },
      "source": [
        "<a href=\"https://colab.research.google.com/github/aaronbowman/Data_Tools/blob/nested_buttons/Consolidated_Data_Tools_(non_effect).ipynb\" target=\"_parent\"><img src=\"https://colab.research.google.com/assets/colab-badge.svg\" alt=\"Open In Colab\"/></a>"
      ]
    },
    {
      "cell_type": "code",
      "execution_count": 2,
      "metadata": {
        "id": "L86hdDNk98GD",
        "colab": {
          "resources": {
            "http://localhost:8080/nbextensions/google.colab/files.js": {
              "data": "Ly8gQ29weXJpZ2h0IDIwMTcgR29vZ2xlIExMQwovLwovLyBMaWNlbnNlZCB1bmRlciB0aGUgQXBhY2hlIExpY2Vuc2UsIFZlcnNpb24gMi4wICh0aGUgIkxpY2Vuc2UiKTsKLy8geW91IG1heSBub3QgdXNlIHRoaXMgZmlsZSBleGNlcHQgaW4gY29tcGxpYW5jZSB3aXRoIHRoZSBMaWNlbnNlLgovLyBZb3UgbWF5IG9idGFpbiBhIGNvcHkgb2YgdGhlIExpY2Vuc2UgYXQKLy8KLy8gICAgICBodHRwOi8vd3d3LmFwYWNoZS5vcmcvbGljZW5zZXMvTElDRU5TRS0yLjAKLy8KLy8gVW5sZXNzIHJlcXVpcmVkIGJ5IGFwcGxpY2FibGUgbGF3IG9yIGFncmVlZCB0byBpbiB3cml0aW5nLCBzb2Z0d2FyZQovLyBkaXN0cmlidXRlZCB1bmRlciB0aGUgTGljZW5zZSBpcyBkaXN0cmlidXRlZCBvbiBhbiAiQVMgSVMiIEJBU0lTLAovLyBXSVRIT1VUIFdBUlJBTlRJRVMgT1IgQ09ORElUSU9OUyBPRiBBTlkgS0lORCwgZWl0aGVyIGV4cHJlc3Mgb3IgaW1wbGllZC4KLy8gU2VlIHRoZSBMaWNlbnNlIGZvciB0aGUgc3BlY2lmaWMgbGFuZ3VhZ2UgZ292ZXJuaW5nIHBlcm1pc3Npb25zIGFuZAovLyBsaW1pdGF0aW9ucyB1bmRlciB0aGUgTGljZW5zZS4KCi8qKgogKiBAZmlsZW92ZXJ2aWV3IEhlbHBlcnMgZm9yIGdvb2dsZS5jb2xhYiBQeXRob24gbW9kdWxlLgogKi8KKGZ1bmN0aW9uKHNjb3BlKSB7CmZ1bmN0aW9uIHNwYW4odGV4dCwgc3R5bGVBdHRyaWJ1dGVzID0ge30pIHsKICBjb25zdCBlbGVtZW50ID0gZG9jdW1lbnQuY3JlYXRlRWxlbWVudCgnc3BhbicpOwogIGVsZW1lbnQudGV4dENvbnRlbnQgPSB0ZXh0OwogIGZvciAoY29uc3Qga2V5IG9mIE9iamVjdC5rZXlzKHN0eWxlQXR0cmlidXRlcykpIHsKICAgIGVsZW1lbnQuc3R5bGVba2V5XSA9IHN0eWxlQXR0cmlidXRlc1trZXldOwogIH0KICByZXR1cm4gZWxlbWVudDsKfQoKLy8gTWF4IG51bWJlciBvZiBieXRlcyB3aGljaCB3aWxsIGJlIHVwbG9hZGVkIGF0IGEgdGltZS4KY29uc3QgTUFYX1BBWUxPQURfU0laRSA9IDEwMCAqIDEwMjQ7CgpmdW5jdGlvbiBfdXBsb2FkRmlsZXMoaW5wdXRJZCwgb3V0cHV0SWQpIHsKICBjb25zdCBzdGVwcyA9IHVwbG9hZEZpbGVzU3RlcChpbnB1dElkLCBvdXRwdXRJZCk7CiAgY29uc3Qgb3V0cHV0RWxlbWVudCA9IGRvY3VtZW50LmdldEVsZW1lbnRCeUlkKG91dHB1dElkKTsKICAvLyBDYWNoZSBzdGVwcyBvbiB0aGUgb3V0cHV0RWxlbWVudCB0byBtYWtlIGl0IGF2YWlsYWJsZSBmb3IgdGhlIG5leHQgY2FsbAogIC8vIHRvIHVwbG9hZEZpbGVzQ29udGludWUgZnJvbSBQeXRob24uCiAgb3V0cHV0RWxlbWVudC5zdGVwcyA9IHN0ZXBzOwoKICByZXR1cm4gX3VwbG9hZEZpbGVzQ29udGludWUob3V0cHV0SWQpOwp9CgovLyBUaGlzIGlzIHJvdWdobHkgYW4gYXN5bmMgZ2VuZXJhdG9yIChub3Qgc3VwcG9ydGVkIGluIHRoZSBicm93c2VyIHlldCksCi8vIHdoZXJlIHRoZXJlIGFyZSBtdWx0aXBsZSBhc3luY2hyb25vdXMgc3RlcHMgYW5kIHRoZSBQeXRob24gc2lkZSBpcyBnb2luZwovLyB0byBwb2xsIGZvciBjb21wbGV0aW9uIG9mIGVhY2ggc3RlcC4KLy8gVGhpcyB1c2VzIGEgUHJvbWlzZSB0byBibG9jayB0aGUgcHl0aG9uIHNpZGUgb24gY29tcGxldGlvbiBvZiBlYWNoIHN0ZXAsCi8vIHRoZW4gcGFzc2VzIHRoZSByZXN1bHQgb2YgdGhlIHByZXZpb3VzIHN0ZXAgYXMgdGhlIGlucHV0IHRvIHRoZSBuZXh0IHN0ZXAuCmZ1bmN0aW9uIF91cGxvYWRGaWxlc0NvbnRpbnVlKG91dHB1dElkKSB7CiAgY29uc3Qgb3V0cHV0RWxlbWVudCA9IGRvY3VtZW50LmdldEVsZW1lbnRCeUlkKG91dHB1dElkKTsKICBjb25zdCBzdGVwcyA9IG91dHB1dEVsZW1lbnQuc3RlcHM7CgogIGNvbnN0IG5leHQgPSBzdGVwcy5uZXh0KG91dHB1dEVsZW1lbnQubGFzdFByb21pc2VWYWx1ZSk7CiAgcmV0dXJuIFByb21pc2UucmVzb2x2ZShuZXh0LnZhbHVlLnByb21pc2UpLnRoZW4oKHZhbHVlKSA9PiB7CiAgICAvLyBDYWNoZSB0aGUgbGFzdCBwcm9taXNlIHZhbHVlIHRvIG1ha2UgaXQgYXZhaWxhYmxlIHRvIHRoZSBuZXh0CiAgICAvLyBzdGVwIG9mIHRoZSBnZW5lcmF0b3IuCiAgICBvdXRwdXRFbGVtZW50Lmxhc3RQcm9taXNlVmFsdWUgPSB2YWx1ZTsKICAgIHJldHVybiBuZXh0LnZhbHVlLnJlc3BvbnNlOwogIH0pOwp9CgovKioKICogR2VuZXJhdG9yIGZ1bmN0aW9uIHdoaWNoIGlzIGNhbGxlZCBiZXR3ZWVuIGVhY2ggYXN5bmMgc3RlcCBvZiB0aGUgdXBsb2FkCiAqIHByb2Nlc3MuCiAqIEBwYXJhbSB7c3RyaW5nfSBpbnB1dElkIEVsZW1lbnQgSUQgb2YgdGhlIGlucHV0IGZpbGUgcGlja2VyIGVsZW1lbnQuCiAqIEBwYXJhbSB7c3RyaW5nfSBvdXRwdXRJZCBFbGVtZW50IElEIG9mIHRoZSBvdXRwdXQgZGlzcGxheS4KICogQHJldHVybiB7IUl0ZXJhYmxlPCFPYmplY3Q+fSBJdGVyYWJsZSBvZiBuZXh0IHN0ZXBzLgogKi8KZnVuY3Rpb24qIHVwbG9hZEZpbGVzU3RlcChpbnB1dElkLCBvdXRwdXRJZCkgewogIGNvbnN0IGlucHV0RWxlbWVudCA9IGRvY3VtZW50LmdldEVsZW1lbnRCeUlkKGlucHV0SWQpOwogIGlucHV0RWxlbWVudC5kaXNhYmxlZCA9IGZhbHNlOwoKICBjb25zdCBvdXRwdXRFbGVtZW50ID0gZG9jdW1lbnQuZ2V0RWxlbWVudEJ5SWQob3V0cHV0SWQpOwogIG91dHB1dEVsZW1lbnQuaW5uZXJIVE1MID0gJyc7CgogIGNvbnN0IHBpY2tlZFByb21pc2UgPSBuZXcgUHJvbWlzZSgocmVzb2x2ZSkgPT4gewogICAgaW5wdXRFbGVtZW50LmFkZEV2ZW50TGlzdGVuZXIoJ2NoYW5nZScsIChlKSA9PiB7CiAgICAgIHJlc29sdmUoZS50YXJnZXQuZmlsZXMpOwogICAgfSk7CiAgfSk7CgogIGNvbnN0IGNhbmNlbCA9IGRvY3VtZW50LmNyZWF0ZUVsZW1lbnQoJ2J1dHRvbicpOwogIGlucHV0RWxlbWVudC5wYXJlbnRFbGVtZW50LmFwcGVuZENoaWxkKGNhbmNlbCk7CiAgY2FuY2VsLnRleHRDb250ZW50ID0gJ0NhbmNlbCB1cGxvYWQnOwogIGNvbnN0IGNhbmNlbFByb21pc2UgPSBuZXcgUHJvbWlzZSgocmVzb2x2ZSkgPT4gewogICAgY2FuY2VsLm9uY2xpY2sgPSAoKSA9PiB7CiAgICAgIHJlc29sdmUobnVsbCk7CiAgICB9OwogIH0pOwoKICAvLyBXYWl0IGZvciB0aGUgdXNlciB0byBwaWNrIHRoZSBmaWxlcy4KICBjb25zdCBmaWxlcyA9IHlpZWxkIHsKICAgIHByb21pc2U6IFByb21pc2UucmFjZShbcGlja2VkUHJvbWlzZSwgY2FuY2VsUHJvbWlzZV0pLAogICAgcmVzcG9uc2U6IHsKICAgICAgYWN0aW9uOiAnc3RhcnRpbmcnLAogICAgfQogIH07CgogIGNhbmNlbC5yZW1vdmUoKTsKCiAgLy8gRGlzYWJsZSB0aGUgaW5wdXQgZWxlbWVudCBzaW5jZSBmdXJ0aGVyIHBpY2tzIGFyZSBub3QgYWxsb3dlZC4KICBpbnB1dEVsZW1lbnQuZGlzYWJsZWQgPSB0cnVlOwoKICBpZiAoIWZpbGVzKSB7CiAgICByZXR1cm4gewogICAgICByZXNwb25zZTogewogICAgICAgIGFjdGlvbjogJ2NvbXBsZXRlJywKICAgICAgfQogICAgfTsKICB9CgogIGZvciAoY29uc3QgZmlsZSBvZiBmaWxlcykgewogICAgY29uc3QgbGkgPSBkb2N1bWVudC5jcmVhdGVFbGVtZW50KCdsaScpOwogICAgbGkuYXBwZW5kKHNwYW4oZmlsZS5uYW1lLCB7Zm9udFdlaWdodDogJ2JvbGQnfSkpOwogICAgbGkuYXBwZW5kKHNwYW4oCiAgICAgICAgYCgke2ZpbGUudHlwZSB8fCAnbi9hJ30pIC0gJHtmaWxlLnNpemV9IGJ5dGVzLCBgICsKICAgICAgICBgbGFzdCBtb2RpZmllZDogJHsKICAgICAgICAgICAgZmlsZS5sYXN0TW9kaWZpZWREYXRlID8gZmlsZS5sYXN0TW9kaWZpZWREYXRlLnRvTG9jYWxlRGF0ZVN0cmluZygpIDoKICAgICAgICAgICAgICAgICAgICAgICAgICAgICAgICAgICAgJ24vYSd9IC0gYCkpOwogICAgY29uc3QgcGVyY2VudCA9IHNwYW4oJzAlIGRvbmUnKTsKICAgIGxpLmFwcGVuZENoaWxkKHBlcmNlbnQpOwoKICAgIG91dHB1dEVsZW1lbnQuYXBwZW5kQ2hpbGQobGkpOwoKICAgIGNvbnN0IGZpbGVEYXRhUHJvbWlzZSA9IG5ldyBQcm9taXNlKChyZXNvbHZlKSA9PiB7CiAgICAgIGNvbnN0IHJlYWRlciA9IG5ldyBGaWxlUmVhZGVyKCk7CiAgICAgIHJlYWRlci5vbmxvYWQgPSAoZSkgPT4gewogICAgICAgIHJlc29sdmUoZS50YXJnZXQucmVzdWx0KTsKICAgICAgfTsKICAgICAgcmVhZGVyLnJlYWRBc0FycmF5QnVmZmVyKGZpbGUpOwogICAgfSk7CiAgICAvLyBXYWl0IGZvciB0aGUgZGF0YSB0byBiZSByZWFkeS4KICAgIGxldCBmaWxlRGF0YSA9IHlpZWxkIHsKICAgICAgcHJvbWlzZTogZmlsZURhdGFQcm9taXNlLAogICAgICByZXNwb25zZTogewogICAgICAgIGFjdGlvbjogJ2NvbnRpbnVlJywKICAgICAgfQogICAgfTsKCiAgICAvLyBVc2UgYSBjaHVua2VkIHNlbmRpbmcgdG8gYXZvaWQgbWVzc2FnZSBzaXplIGxpbWl0cy4gU2VlIGIvNjIxMTU2NjAuCiAgICBsZXQgcG9zaXRpb24gPSAwOwogICAgZG8gewogICAgICBjb25zdCBsZW5ndGggPSBNYXRoLm1pbihmaWxlRGF0YS5ieXRlTGVuZ3RoIC0gcG9zaXRpb24sIE1BWF9QQVlMT0FEX1NJWkUpOwogICAgICBjb25zdCBjaHVuayA9IG5ldyBVaW50OEFycmF5KGZpbGVEYXRhLCBwb3NpdGlvbiwgbGVuZ3RoKTsKICAgICAgcG9zaXRpb24gKz0gbGVuZ3RoOwoKICAgICAgY29uc3QgYmFzZTY0ID0gYnRvYShTdHJpbmcuZnJvbUNoYXJDb2RlLmFwcGx5KG51bGwsIGNodW5rKSk7CiAgICAgIHlpZWxkIHsKICAgICAgICByZXNwb25zZTogewogICAgICAgICAgYWN0aW9uOiAnYXBwZW5kJywKICAgICAgICAgIGZpbGU6IGZpbGUubmFtZSwKICAgICAgICAgIGRhdGE6IGJhc2U2NCwKICAgICAgICB9LAogICAgICB9OwoKICAgICAgbGV0IHBlcmNlbnREb25lID0gZmlsZURhdGEuYnl0ZUxlbmd0aCA9PT0gMCA/CiAgICAgICAgICAxMDAgOgogICAgICAgICAgTWF0aC5yb3VuZCgocG9zaXRpb24gLyBmaWxlRGF0YS5ieXRlTGVuZ3RoKSAqIDEwMCk7CiAgICAgIHBlcmNlbnQudGV4dENvbnRlbnQgPSBgJHtwZXJjZW50RG9uZX0lIGRvbmVgOwoKICAgIH0gd2hpbGUgKHBvc2l0aW9uIDwgZmlsZURhdGEuYnl0ZUxlbmd0aCk7CiAgfQoKICAvLyBBbGwgZG9uZS4KICB5aWVsZCB7CiAgICByZXNwb25zZTogewogICAgICBhY3Rpb246ICdjb21wbGV0ZScsCiAgICB9CiAgfTsKfQoKc2NvcGUuZ29vZ2xlID0gc2NvcGUuZ29vZ2xlIHx8IHt9OwpzY29wZS5nb29nbGUuY29sYWIgPSBzY29wZS5nb29nbGUuY29sYWIgfHwge307CnNjb3BlLmdvb2dsZS5jb2xhYi5fZmlsZXMgPSB7CiAgX3VwbG9hZEZpbGVzLAogIF91cGxvYWRGaWxlc0NvbnRpbnVlLAp9Owp9KShzZWxmKTsK",
              "ok": true,
              "headers": [
                [
                  "content-type",
                  "application/javascript"
                ]
              ],
              "status": 200,
              "status_text": ""
            }
          },
          "base_uri": "https://localhost:8080/",
          "height": 132
        },
        "outputId": "8f9ab441-5f01-4291-fb94-46d4dfd21695"
      },
      "outputs": [
        {
          "output_type": "display_data",
          "data": {
            "text/html": [
              "\n",
              "     <input type=\"file\" id=\"files-1ea3f350-67ba-4270-873a-55f8bd61922b\" name=\"files[]\" multiple disabled\n",
              "        style=\"border:none\" />\n",
              "     <output id=\"result-1ea3f350-67ba-4270-873a-55f8bd61922b\">\n",
              "      Upload widget is only available when the cell has been executed in the\n",
              "      current browser session. Please rerun this cell to enable.\n",
              "      </output>\n",
              "      <script src=\"/nbextensions/google.colab/files.js\"></script> "
            ],
            "text/plain": [
              "<IPython.core.display.HTML object>"
            ]
          },
          "metadata": {}
        },
        {
          "output_type": "stream",
          "name": "stdout",
          "text": [
            "Saving BHE Tag Set.csv to BHE Tag Set.csv\n"
          ]
        },
        {
          "output_type": "display_data",
          "data": {
            "text/html": [
              "\n",
              "     <input type=\"file\" id=\"files-2d98116c-d09a-4f23-835b-18c2fd6b6900\" name=\"files[]\" multiple disabled\n",
              "        style=\"border:none\" />\n",
              "     <output id=\"result-2d98116c-d09a-4f23-835b-18c2fd6b6900\">\n",
              "      Upload widget is only available when the cell has been executed in the\n",
              "      current browser session. Please rerun this cell to enable.\n",
              "      </output>\n",
              "      <script src=\"/nbextensions/google.colab/files.js\"></script> "
            ],
            "text/plain": [
              "<IPython.core.display.HTML object>"
            ]
          },
          "metadata": {}
        },
        {
          "output_type": "stream",
          "name": "stdout",
          "text": [
            "Saving BHE(Q3)New.csv to BHE(Q3)New.csv\n"
          ]
        },
        {
          "output_type": "display_data",
          "data": {
            "text/html": [
              "\n",
              "     <input type=\"file\" id=\"files-5022f448-ec4d-40eb-a8d4-45f190b81e5b\" name=\"files[]\" multiple disabled\n",
              "        style=\"border:none\" />\n",
              "     <output id=\"result-5022f448-ec4d-40eb-a8d4-45f190b81e5b\">\n",
              "      Upload widget is only available when the cell has been executed in the\n",
              "      current browser session. Please rerun this cell to enable.\n",
              "      </output>\n",
              "      <script src=\"/nbextensions/google.colab/files.js\"></script> "
            ],
            "text/plain": [
              "<IPython.core.display.HTML object>"
            ]
          },
          "metadata": {}
        },
        {
          "output_type": "stream",
          "name": "stdout",
          "text": [
            "Saving BHE(Q4)New.csv to BHE(Q4)New.csv\n"
          ]
        }
      ],
      "source": [
        "#Top level entry point for uploading csvs\n",
        "from google.colab import files\n",
        "import io\n",
        "import pandas as pd\n",
        "\n",
        "\n",
        "#author_data = files.upload()\n",
        "#outlet_data = files.upload\n",
        "\n",
        "tags_set = files.upload()\n",
        "#Read the tag data into a dataframe\n",
        "tag_set = pd.read_csv(io.BytesIO(tags_set['BHE Tag Set.csv']), encoding ='latin1')\n",
        "\n",
        "prior_article_data = files.upload()\n",
        "#Read the previous time frames article data into a dataframe\n",
        "prior_article_data = pd.read_csv(io.BytesIO(prior_article_data['BHE(Q3)New.csv']))\n",
        "#Drop the last row of the dataframe as it has the 'Copyright PublicRelay 2022' string\n",
        "prior_article_data.drop(prior_article_data.tail(1).index,inplace=True)\n",
        "\n",
        "article_data = files.upload()\n",
        "#Read the article data into a dataframe\n",
        "article_data = pd.read_csv(io.BytesIO(article_data['BHE(Q4)New.csv']))\n",
        "#Drop the last row of the dataframe as it has the 'Copyright PublicRelay 2022' string\n",
        "article_data.drop(article_data.tail(1).index,inplace=True)\n",
        "\n",
        "\n"
      ]
    },
    {
      "cell_type": "code",
      "source": [
        "# Create the needed 2D tags by merging our lists of data together there. Can swap these out for any other tagset from other accounts. Run this cell to make the fuction accessible \n",
        "\n",
        "# Create the 2D tags\n",
        "parent_groups = tag_set['Parents'].dropna().tolist()\n",
        "messages = tag_set['Messages'].dropna().values.tolist()\n",
        "\n",
        "\n",
        "\n",
        "# Merge the 2D tags into a proper list and return that list. \n",
        "def topic_name():\n",
        "    relational_tags = messages\n",
        "    parent_tags = parent_groups\n",
        "    tag_list = []\n",
        "    \n",
        "    for i in range(len(parent_tags)):\n",
        "      for j in range(len(relational_tags)):\n",
        "        tag_list.append(parent_tags[i] + ':' + relational_tags[j])\n",
        "        \n",
        "    return tag_list\n",
        "\n",
        "# Use this to only generate the relevant 2D tags for a certain subsidary\n",
        "# Use primarly when using nested drop-down menus to limit how much data needs to be crunched\n",
        "def subsidary_tags_only(parent, message):\n",
        "  \n",
        "  output = parent + ':' + message\n",
        "\n",
        "  return output\n",
        "\n",
        "# Filter the dataframe so it only returns the 2D tags in the targeted dataframe\n",
        "def relational_tags_only(df):\n",
        "\n",
        "    # Import the topics and strip the dataframe in use of all unneeded columns\n",
        "    topic = topic_name(effect, strategic_priorities, mission, mission_tags, strategic_tags)\n",
        "    output_frame = df.filter(topic)\n",
        "\n",
        "    return output_frame\n",
        "\n",
        "# Pass a list as a an argument to amend the tag list and then filter the dataframe based on that\n",
        "def relational_tags_plus(df, input_list):\n",
        "    tag_list = topic_name()\n",
        "    input_list = []\n",
        "    complete_list = input_list + tag_list\n",
        "\n",
        "    output_frame = df.filter(complete_list)\n",
        "\n",
        "    return output_frame\n",
        "\n",
        "def zero_safe_percent(prior, current):\n",
        "\n",
        "  try:\n",
        "    percent = (current/prior)*100\n",
        "  except ZeroDivisionError:\n",
        "    percent = 0\n",
        "  return percent\n"
      ],
      "metadata": {
        "id": "mg1nKNnm-ayR"
      },
      "execution_count": 17,
      "outputs": []
    },
    {
      "cell_type": "code",
      "source": [
        "# Group articles by tone and by day. Useful to generate graphs of specific tags/ tagsets and track them over time\n",
        "from google.colab import files\n",
        "\n",
        "import pandas as pd\n",
        "import matplotlib.pyplot as plt\n",
        "import seaborn as sns\n",
        "import io\n",
        "\n",
        "# Correct the datetime of the loaded csv so that we can groupby datetime\n",
        "def correct_datetime(df):\n",
        "  df['Date'] = pd.to_datetime(df['Date'], errors='coerce')\n",
        "  return df\n",
        "\n",
        "# Group the articles by article tone into rows by day\n",
        "def article_tone_by_day(df):\n",
        "  df = correct_datetime(df)\n",
        "  # Filter the dataframe to make it a far more managebla size\n",
        "  df.filter(items=['Date', 'Tone'])\n",
        "  # Create the dateframe that we will export to\n",
        "  output = pd.DataFrame(columns=['Date', 'Positive', 'Netural', 'Negative'])\n",
        "  for j in range(len(df)):\n",
        "    row = {}\n",
        "    try:\n",
        "      if pd.notna(df.at[j, 'Tone']):\n",
        "        # We are adding a new row of data for each article with the correct values. Each row is a dict to be appended to the output dataframe\n",
        "        if df.at[j, 'Tone'] == '+':\n",
        "          row = {'Date': df.at[j, 'Date'], 'Positive' : 1, 'Netural' : 0, 'Negative' : 0}\n",
        "        elif df.at[j, 'Tone'] == 'o':\n",
        "          row = {'Date': df.at[j, 'Date'], 'Positive' : 0, 'Netural' : 1, 'Negative' : 0}\n",
        "        elif df.at[j, 'Tone'] == '-':\n",
        "          row = {'Date': df.at[j, 'Date'], 'Positive' : 0, 'Netural' : 0, 'Negative' : 1}\n",
        "        \n",
        "      output = output.append(other=row, ignore_index=True)\n",
        "    except KeyError:\n",
        "      print(f'No cases of Tone at: {j}')\n",
        "      j += 1\n",
        "  # Once all the rows are appended, we will groupby the datetime and sum the rows to give us a day by day count.\n",
        "  output = output.groupby([output['Date'].dt.date]).sum()\n",
        "  return output\n",
        "\n",
        "# Group the articles by tag and the tone of that tag into rows by day\n",
        "def tag_tone_by_day(df, target_tag):\n",
        "  df = correct_datetime(df)\n",
        "\n",
        "  # Filter the dataframe to make it a far more manageable size\n",
        "  try:\n",
        "    df.filter(items=['Date', target_tag], axis='columns')\n",
        "  except KeyError:\n",
        "      # If a tag doesn't exist zero it out at the first date in the main article dataframe\n",
        "      print(f'No cases of tag {target_tag}')\n",
        "      return {'Date': article_data.at[1, 'Date'], 'Positive' : 0, 'Netural' : 0, 'Negative' : 0} \n",
        "\n",
        "  # Create the dateframe that we will export to\n",
        "  output = pd.DataFrame(columns=['Date', 'Positive', 'Netural', 'Negative'])\n",
        "  output['Date'] = df['Date']\n",
        "\n",
        "  try:\n",
        "  \n",
        "    output.loc[df[target_tag] == 1, 'Positive'] = 1\n",
        "    output.loc[df[target_tag] == 0, 'Netural'] = 1\n",
        "    output.loc[df[target_tag] < 0, 'Negative'] = 1\n",
        "\n",
        "    # Once all the rows are appended, we will groupby the datetime and sum the rows to give us a day by day count.\n",
        "    output = output.groupby([output['Date'].dt.date]).sum()\n",
        "  except KeyError:\n",
        "      # If a tag doesn't exist zero it out at the first date in the main article dataframe\n",
        "      print(f'No cases of tag {target_tag}')\n",
        "      return {'Date': article_data.at[1, 'Date'], 'Positive' : 0, 'Netural' : 0, 'Negative' : 0}\n",
        "  return output"
      ],
      "metadata": {
        "id": "iRbUsU03-3bw"
      },
      "execution_count": 4,
      "outputs": []
    },
    {
      "cell_type": "code",
      "source": [
        "import matplotlib as mpl\n",
        "import matplotlib.pyplot as plt\n",
        "import numpy as np\n",
        "import ipywidgets as widgets\n",
        "\n",
        "\n",
        "def plot_tone_over_time(df):\n",
        "  # Using matplotlib for consitancy, we plot the data from the article tone cells here. \n",
        "  fig = plt.figure(figsize=(10, 8), dpi=100)\n",
        "  ax = fig.add_subplot(111)\n",
        "\n",
        "  ax.plot(df.index, df['Positive'], c='g', label='Positive')\n",
        "  ax.plot(df.index, df['Netural'], c='b', label='Netural')\n",
        "  ax.plot(df.index, df['Negative'], c='r', label='Negative')\n",
        "  plt.legend(loc='upper left');\n",
        "\n",
        "\n",
        "# Upload the article data at the top and then it will be plottable here. This will call the groupby function and depdenacies\n",
        "def tag_or_article_tone(parent_tag, message_tag):\n",
        "  if parent_tag == 'All':\n",
        "    plot_tone_over_time(article_tone_by_day(article_data))\n",
        "  else:\n",
        "    target_tag = subsidary_tags_only(parent_tag, message_tag)\n",
        "    plot_tone_over_time(tag_tone_by_day(article_data, target_tag))\n",
        "\n",
        "parent_drop_down = parent_groups\n",
        "parent_drop_down.append('All')\n",
        "parent_drop_down.sort()\n",
        "message_drop_down = messages\n",
        "message_drop_down.sort()\n",
        "\n",
        "widgets.interact(tag_or_article_tone, parent_tag=parent_drop_down, message_tag = messages)"
      ],
      "metadata": {
        "colab": {
          "base_uri": "https://localhost:8080/",
          "height": 745,
          "referenced_widgets": [
            "acbb72c84f7147dca8ca0221d2af32d0",
            "305b5fb18c52454389d8e1602a767506",
            "d023eef5a1fb4ae38c50ff144b7c0706",
            "b1a5f589030f49b78a29f638de86d4e5",
            "f1ffaae578804b16a91f0e088c90e893",
            "1396d1d2e925458ebe799668608e406d",
            "37be59c51ba34d75b179a262e1a01269",
            "0978682d921f48f992a5c36191edad08",
            "8426baf27b914c808d629672cf324912",
            "48477b12f6714f7da9d4e6a5ff136ac2"
          ]
        },
        "id": "fHzMzBSaATR-",
        "outputId": "9d57b17d-a2a3-415c-a168-5b918dfbeda8"
      },
      "execution_count": 18,
      "outputs": [
        {
          "output_type": "display_data",
          "data": {
            "application/vnd.jupyter.widget-view+json": {
              "model_id": "acbb72c84f7147dca8ca0221d2af32d0",
              "version_minor": 0,
              "version_major": 2
            },
            "text/plain": [
              "interactive(children=(Dropdown(description='parent_tag', options=('All', 'AltaLink', 'BHE', 'BHE GT&S', 'BHE R…"
            ]
          },
          "metadata": {}
        },
        {
          "output_type": "execute_result",
          "data": {
            "text/plain": [
              "<function __main__.tag_or_article_tone>"
            ]
          },
          "metadata": {},
          "execution_count": 18
        }
      ]
    },
    {
      "cell_type": "code",
      "source": [
        "# Prep and plot a linear regression model for each of the three articles tones over time\n",
        "from scipy import stats\n",
        "import matplotlib as mpl\n",
        "import ipywidgets as widgets\n",
        "import matplotlib.pyplot as plt\n",
        "import numpy as np\n",
        "import pandas as pd\n",
        "import datetime as dt\n",
        "import scipy.stats as sp\n",
        "\n",
        "# Create a dummy varibale for time so that we can plot the linear regression models\n",
        "def regression_dummy(df):\n",
        "  # Assuming that the dataframe is grouped by a consistnacy time period and in order, this will provide a linear count as a dummy variable. Day 1 = 1, Day 2 = 2 etc..  \n",
        "  for i in range(len(df)):\n",
        "    df.at[df.index[i], 'Regression Dummy'] = i + 1\n",
        "  return df\n",
        "\n",
        "# This will return all the key datapoints of a linear regression model to report on it and plot\n",
        "def linear_regression(data, target):\n",
        "\n",
        "  # Target variable here should be a str telling us which of Positive/Neutral/Negative we are aiming for in this run\n",
        "  y=np.array(data[target].dropna().values, dtype=float)\n",
        "  x=np.array(data['Regression Dummy'].dropna().values, dtype=float)\n",
        "  slope, intercept, r_value, p_value, std_err = stats.linregress(data['Regression Dummy'], data[target])\n",
        "\n",
        "  # Calulate the y values for each point of x to facilate plotting\n",
        "  xf = np.linspace(min(x),max(x),100)\n",
        "  yf = (slope*xf)+intercept\n",
        "\n",
        "  # Print the key values of our model so we can actually use it to assess if its valid and or useful\n",
        "  print('Target value =', target, '\\n', 'r = ', r_value, '\\n', 'p = ', p_value, '\\n', 's = ', std_err)\n",
        "  return slope, intercept, r_value, p_value, std_err, xf, yf\n",
        "\n",
        "def plot_over_time(df):\n",
        "  fig = plt.figure(figsize=(10, 8), dpi=100)\n",
        "  ax1 = fig.add_subplot(111)\n",
        "\n",
        "  # Add the regression dummy variable to the df\n",
        "  df = regression_dummy(df)\n",
        "\n",
        "  # Time series is hard, so we need to plot with the regression dummy variable\n",
        "  ax1.scatter(df['Regression Dummy'], df['Positive'], s=10, c='g', marker=\"s\", label='Positive')\n",
        "  ax1.scatter(df['Regression Dummy'], df['Netural'], s=10, c='b', marker=\"o\", label='Netural')\n",
        "  ax1.scatter(df['Regression Dummy'], df['Negative'], s=10, c='r', marker=\"x\", label='Negative')\n",
        "  # Plot the linear regression lines. Colours should be the same as the scatter plots for their tones\n",
        "  slope, intercept, r_value, p_value, std_err, xf, yf = linear_regression(df, 'Positive')\n",
        "  ax1.plot(xf, yf, label='Positive Linear fit', lw=3, c='g')\n",
        "  slope, intercept, r_value, p_value, std_err, xf, yf = linear_regression(df, 'Netural')\n",
        "  ax1.plot(xf, yf, label='Netural Linear fit', lw=3, c='b') \n",
        "  slope, intercept, r_value, p_value, std_err, xf, yf = linear_regression(df, 'Negative')\n",
        "  ax1.plot(xf, yf, label='Negative Linear fit', lw=3, c='r')\n",
        "\n",
        "  plt.legend(loc='upper left');\n",
        "\n",
        "\n",
        "# Upload the article data at the top and then it will be plottable here. This will call the groupby function and depdenacies\n",
        "def tag_or_article_linear_regression(parent_tag, message_tag):\n",
        "  if parent_tag == 'All':\n",
        "    plot_over_time(article_tone_by_day(article_data))\n",
        "  else:\n",
        "    target_tag = subsidary_tags_only(parent_tag, message_tag)\n",
        "    plot_over_time(tag_tone_by_day(article_data, target_tag))\n",
        "\n",
        "parent_drop_down = parent_groups\n",
        "parent_drop_down.append('All')\n",
        "parent_drop_down.sort()\n",
        "message_drop_down = messages\n",
        "message_drop_down.sort()\n",
        "\n",
        "widgets.interact(tag_or_article_linear_regression, parent_tag=parent_drop_down, message_tag = messages)"
      ],
      "metadata": {
        "colab": {
          "base_uri": "https://localhost:8080/",
          "height": 954,
          "referenced_widgets": [
            "f00172b12f4549a7b6fff86f42977a54",
            "f46a60c0f57a42adb419827870979f35",
            "1fdc7a468d8b449792dced48f765d00f",
            "6f0868d555ae41a582104a3b3372e501",
            "3685c3a5ad9c4c42b0958cbd3f30047f",
            "9e9656edd9f14092b7a584521955c34c",
            "d3cac503851344d59f823fc900088070",
            "719a913059224924a2fb265350d4f85c",
            "506c6d375ff446bcad4b1eab8207eb9f",
            "209d6600eb7f49679ea22b676d916278"
          ]
        },
        "id": "CnNeNk4BCrS-",
        "outputId": "45c95a7c-cf3e-4a29-b3da-d50c4e406a52"
      },
      "execution_count": 19,
      "outputs": [
        {
          "output_type": "display_data",
          "data": {
            "application/vnd.jupyter.widget-view+json": {
              "model_id": "f00172b12f4549a7b6fff86f42977a54",
              "version_minor": 0,
              "version_major": 2
            },
            "text/plain": [
              "interactive(children=(Dropdown(description='parent_tag', options=('All', 'All', 'AltaLink', 'BHE', 'BHE GT&S',…"
            ]
          },
          "metadata": {}
        },
        {
          "output_type": "execute_result",
          "data": {
            "text/plain": [
              "<function __main__.tag_or_article_linear_regression>"
            ]
          },
          "metadata": {},
          "execution_count": 19
        }
      ]
    },
    {
      "cell_type": "code",
      "source": [
        "import pandas as pd\n",
        "import io\n",
        "\n",
        "def total_tag_tone(current_df, previous_df):\n",
        "\n",
        "  \n",
        "  tag_list = topic_name()\n",
        "  output_frame = pd.DataFrame(columns=['Parent', 'Message', 'Tag', 'Current Total', 'Prior Total', 'Total Change', 'Current Positive', 'Prior Positive', 'Positive Change',\n",
        "                               'Current Neutral', 'Prior Neutral', 'Netural Change', 'Current Negative', 'Prior Negative', 'Negative Change'])\n",
        "\n",
        "  for i in range(len(tag_list)):\n",
        "    try:\n",
        "      current_working = tag_tone_by_day(current_df, tag_list[i])\n",
        "      current_working = {'Tag' : tag_list[i], 'Current Positive' : current_working['Positive'].sum(axis = 0, skipna = True), \n",
        "                        'Current Neutral' : current_working['Netural'].sum(axis = 0, skipna = True),\n",
        "                        'Current Negative' : current_working['Negative'].sum(axis = 0, skipna = True)}\n",
        "      current_working['Current Total'] = current_working['Current Positive'] + current_working['Current Neutral'] + current_working['Current Negative']\n",
        "      prior_working = tag_tone_by_day(previous_df, tag_list[i])\n",
        "\n",
        "\n",
        "      prior_working = {'Tag' : tag_list[i], 'Prior Positive' : prior_working['Positive'].sum(axis = 0, skipna = True), \n",
        "                        'Prior Neutral' : prior_working['Netural'].sum(axis = 0, skipna = True),\n",
        "                        'Prior Negative' : prior_working['Negative'].sum(axis = 0, skipna = True)}\n",
        "      prior_working['Prior Total'] = prior_working['Prior Positive'] + prior_working['Prior Neutral'] + prior_working['Prior Negative']\n",
        "\n",
        "      # Join the two dicts together\n",
        "      output = {**current_working, **prior_working}\n",
        "      \n",
        "      # Check to see if total in both time preiods is 0. If so, there is no data there and we should just discard the row\n",
        "      if output['Current Total'] == 0 and output['Prior Total'] == 0:\n",
        "        print('No values in either item period for tag: {tag_list[i]}')\n",
        "        i += 1\n",
        "      # If there is data in at least one of the two rows then we should perform the calculations\n",
        "      else:\n",
        "        output['Total Change'] = zero_safe_percent(output['Prior Total'], output['Current Total'])\n",
        "        output['Positive Change'] = zero_safe_percent(output['Prior Positive'], output['Current Positive'])\n",
        "        output['Netural Change'] = zero_safe_percent(output['Prior Neutral'], output['Current Neutral'])\n",
        "        output['Negative Change'] = zero_safe_percent(output['Prior Negative'], output['Current Negative'])\n",
        "        \n",
        "        # Determine which parent tag it is and add to the column. This is to make it easier to filter by\n",
        "        for i in range(len(parent_groups)):\n",
        "          if parent_groups[i] in output['Tag']:\n",
        "            output['Parent'] = parent_groups[i]\n",
        "        \n",
        "        # Determine which message tag it is and add to the column. This is to make it easier to filter by\n",
        "        for i in range(len(messages)):\n",
        "          if messages[i] in output['Tag']:\n",
        "            output['Message'] = messages[i]\n",
        "\n",
        "        output_frame = output_frame.append(other=output, ignore_index=True)\n",
        "    except AttributeError as e:\n",
        "      print(e)\n",
        "      i += 1\n",
        "\n",
        "  return output_frame\n",
        "def execute_tag_tone(current, prior):\n",
        "  data = total_tag_tone(current, prior)\n",
        "  data.to_csv(path_or_buf=r'tag_tone.csv')\n",
        "  \n",
        "execute_tag_tone(article_data, prior_article_data)\n"
      ],
      "metadata": {
        "colab": {
          "base_uri": "https://localhost:8080/"
        },
        "id": "ZM-Cg_yg0DUV",
        "outputId": "6ede5fd4-42f2-4db1-bb9b-c77428233e94"
      },
      "execution_count": null,
      "outputs": [
        {
          "output_type": "stream",
          "name": "stderr",
          "text": [
            "/usr/local/lib/python3.7/dist-packages/ipykernel_launcher.py:43: RuntimeWarning: invalid value encountered in long_scalars\n",
            "/usr/local/lib/python3.7/dist-packages/ipykernel_launcher.py:43: RuntimeWarning: invalid value encountered in long_scalars\n"
          ]
        },
        {
          "output_type": "stream",
          "name": "stdout",
          "text": [
            "No values in either item period for tag: {tag_list[i]}\n"
          ]
        },
        {
          "output_type": "stream",
          "name": "stderr",
          "text": [
            "/usr/local/lib/python3.7/dist-packages/ipykernel_launcher.py:43: RuntimeWarning: divide by zero encountered in long_scalars\n",
            "/usr/local/lib/python3.7/dist-packages/ipykernel_launcher.py:43: RuntimeWarning: invalid value encountered in long_scalars\n",
            "/usr/local/lib/python3.7/dist-packages/ipykernel_launcher.py:43: RuntimeWarning: divide by zero encountered in long_scalars\n",
            "/usr/local/lib/python3.7/dist-packages/ipykernel_launcher.py:43: RuntimeWarning: invalid value encountered in long_scalars\n",
            "/usr/local/lib/python3.7/dist-packages/ipykernel_launcher.py:43: RuntimeWarning: invalid value encountered in long_scalars\n",
            "/usr/local/lib/python3.7/dist-packages/ipykernel_launcher.py:43: RuntimeWarning: divide by zero encountered in long_scalars\n",
            "/usr/local/lib/python3.7/dist-packages/ipykernel_launcher.py:43: RuntimeWarning: invalid value encountered in long_scalars\n",
            "/usr/local/lib/python3.7/dist-packages/ipykernel_launcher.py:43: RuntimeWarning: divide by zero encountered in long_scalars\n",
            "/usr/local/lib/python3.7/dist-packages/ipykernel_launcher.py:43: RuntimeWarning: invalid value encountered in long_scalars\n",
            "/usr/local/lib/python3.7/dist-packages/ipykernel_launcher.py:43: RuntimeWarning: invalid value encountered in long_scalars\n",
            "/usr/local/lib/python3.7/dist-packages/ipykernel_launcher.py:43: RuntimeWarning: invalid value encountered in long_scalars\n",
            "/usr/local/lib/python3.7/dist-packages/ipykernel_launcher.py:43: RuntimeWarning: invalid value encountered in long_scalars\n",
            "/usr/local/lib/python3.7/dist-packages/ipykernel_launcher.py:43: RuntimeWarning: divide by zero encountered in long_scalars\n",
            "/usr/local/lib/python3.7/dist-packages/ipykernel_launcher.py:43: RuntimeWarning: invalid value encountered in long_scalars\n",
            "/usr/local/lib/python3.7/dist-packages/ipykernel_launcher.py:43: RuntimeWarning: invalid value encountered in long_scalars\n",
            "/usr/local/lib/python3.7/dist-packages/ipykernel_launcher.py:43: RuntimeWarning: divide by zero encountered in long_scalars\n",
            "/usr/local/lib/python3.7/dist-packages/ipykernel_launcher.py:43: RuntimeWarning: invalid value encountered in long_scalars\n",
            "/usr/local/lib/python3.7/dist-packages/ipykernel_launcher.py:43: RuntimeWarning: invalid value encountered in long_scalars\n",
            "/usr/local/lib/python3.7/dist-packages/ipykernel_launcher.py:43: RuntimeWarning: divide by zero encountered in long_scalars\n",
            "/usr/local/lib/python3.7/dist-packages/ipykernel_launcher.py:43: RuntimeWarning: invalid value encountered in long_scalars\n",
            "/usr/local/lib/python3.7/dist-packages/ipykernel_launcher.py:43: RuntimeWarning: invalid value encountered in long_scalars\n",
            "/usr/local/lib/python3.7/dist-packages/ipykernel_launcher.py:43: RuntimeWarning: invalid value encountered in long_scalars\n",
            "/usr/local/lib/python3.7/dist-packages/ipykernel_launcher.py:43: RuntimeWarning: invalid value encountered in long_scalars\n",
            "/usr/local/lib/python3.7/dist-packages/ipykernel_launcher.py:43: RuntimeWarning: invalid value encountered in long_scalars\n",
            "/usr/local/lib/python3.7/dist-packages/ipykernel_launcher.py:43: RuntimeWarning: invalid value encountered in long_scalars\n",
            "/usr/local/lib/python3.7/dist-packages/ipykernel_launcher.py:43: RuntimeWarning: invalid value encountered in long_scalars\n",
            "/usr/local/lib/python3.7/dist-packages/ipykernel_launcher.py:43: RuntimeWarning: invalid value encountered in long_scalars\n",
            "/usr/local/lib/python3.7/dist-packages/ipykernel_launcher.py:43: RuntimeWarning: invalid value encountered in long_scalars\n",
            "/usr/local/lib/python3.7/dist-packages/ipykernel_launcher.py:43: RuntimeWarning: invalid value encountered in long_scalars\n",
            "/usr/local/lib/python3.7/dist-packages/ipykernel_launcher.py:43: RuntimeWarning: invalid value encountered in long_scalars\n",
            "/usr/local/lib/python3.7/dist-packages/ipykernel_launcher.py:43: RuntimeWarning: invalid value encountered in long_scalars\n"
          ]
        },
        {
          "output_type": "stream",
          "name": "stdout",
          "text": [
            "No values in either item period for tag: {tag_list[i]}\n",
            "No values in either item period for tag: {tag_list[i]}\n",
            "No values in either item period for tag: {tag_list[i]}\n",
            "No values in either item period for tag: {tag_list[i]}\n",
            "No values in either item period for tag: {tag_list[i]}\n",
            "No values in either item period for tag: {tag_list[i]}\n",
            "No values in either item period for tag: {tag_list[i]}\n",
            "No values in either item period for tag: {tag_list[i]}\n",
            "No values in either item period for tag: {tag_list[i]}\n",
            "No values in either item period for tag: {tag_list[i]}\n",
            "No values in either item period for tag: {tag_list[i]}\n",
            "No values in either item period for tag: {tag_list[i]}\n",
            "No values in either item period for tag: {tag_list[i]}\n",
            "No values in either item period for tag: {tag_list[i]}\n",
            "No values in either item period for tag: {tag_list[i]}\n",
            "No values in either item period for tag: {tag_list[i]}\n",
            "No values in either item period for tag: {tag_list[i]}\n"
          ]
        },
        {
          "output_type": "stream",
          "name": "stderr",
          "text": [
            "/usr/local/lib/python3.7/dist-packages/ipykernel_launcher.py:43: RuntimeWarning: invalid value encountered in long_scalars\n"
          ]
        },
        {
          "output_type": "stream",
          "name": "stdout",
          "text": [
            "No values in either item period for tag: {tag_list[i]}\n"
          ]
        },
        {
          "output_type": "stream",
          "name": "stderr",
          "text": [
            "/usr/local/lib/python3.7/dist-packages/ipykernel_launcher.py:43: RuntimeWarning: invalid value encountered in long_scalars\n"
          ]
        },
        {
          "output_type": "stream",
          "name": "stdout",
          "text": [
            "No values in either item period for tag: {tag_list[i]}\n",
            "No values in either item period for tag: {tag_list[i]}\n",
            "No values in either item period for tag: {tag_list[i]}\n",
            "No values in either item period for tag: {tag_list[i]}\n",
            "No values in either item period for tag: {tag_list[i]}\n",
            "No values in either item period for tag: {tag_list[i]}\n",
            "No values in either item period for tag: {tag_list[i]}\n",
            "No values in either item period for tag: {tag_list[i]}\n",
            "No values in either item period for tag: {tag_list[i]}\n",
            "No values in either item period for tag: {tag_list[i]}\n",
            "No values in either item period for tag: {tag_list[i]}\n",
            "No values in either item period for tag: {tag_list[i]}\n"
          ]
        },
        {
          "output_type": "stream",
          "name": "stderr",
          "text": [
            "/usr/local/lib/python3.7/dist-packages/ipykernel_launcher.py:43: RuntimeWarning: invalid value encountered in long_scalars\n",
            "/usr/local/lib/python3.7/dist-packages/ipykernel_launcher.py:43: RuntimeWarning: invalid value encountered in long_scalars\n",
            "/usr/local/lib/python3.7/dist-packages/ipykernel_launcher.py:43: RuntimeWarning: invalid value encountered in long_scalars\n"
          ]
        },
        {
          "output_type": "stream",
          "name": "stdout",
          "text": [
            "No values in either item period for tag: {tag_list[i]}\n"
          ]
        },
        {
          "output_type": "stream",
          "name": "stderr",
          "text": [
            "/usr/local/lib/python3.7/dist-packages/ipykernel_launcher.py:43: RuntimeWarning: invalid value encountered in long_scalars\n"
          ]
        },
        {
          "output_type": "stream",
          "name": "stdout",
          "text": [
            "No values in either item period for tag: {tag_list[i]}\n",
            "No values in either item period for tag: {tag_list[i]}\n"
          ]
        },
        {
          "output_type": "stream",
          "name": "stderr",
          "text": [
            "/usr/local/lib/python3.7/dist-packages/ipykernel_launcher.py:43: RuntimeWarning: divide by zero encountered in long_scalars\n",
            "/usr/local/lib/python3.7/dist-packages/ipykernel_launcher.py:43: RuntimeWarning: invalid value encountered in long_scalars\n",
            "/usr/local/lib/python3.7/dist-packages/ipykernel_launcher.py:43: RuntimeWarning: invalid value encountered in long_scalars\n",
            "/usr/local/lib/python3.7/dist-packages/ipykernel_launcher.py:43: RuntimeWarning: invalid value encountered in long_scalars\n"
          ]
        },
        {
          "output_type": "stream",
          "name": "stdout",
          "text": [
            "No values in either item period for tag: {tag_list[i]}\n",
            "No values in either item period for tag: {tag_list[i]}\n",
            "No values in either item period for tag: {tag_list[i]}\n",
            "No values in either item period for tag: {tag_list[i]}\n",
            "No values in either item period for tag: {tag_list[i]}\n",
            "No values in either item period for tag: {tag_list[i]}\n",
            "No values in either item period for tag: {tag_list[i]}\n",
            "No values in either item period for tag: {tag_list[i]}\n",
            "No values in either item period for tag: {tag_list[i]}\n",
            "No cases of tag HomeServices of Amer:Primary\n",
            "'int' object has no attribute 'sum'\n",
            "No cases of tag HomeServices of Amer:5a. Key Projects\n",
            "'int' object has no attribute 'sum'\n",
            "No cases of tag HomeServices of Amer:5b. Regulatory\n",
            "'int' object has no attribute 'sum'\n",
            "No cases of tag HomeServices of Amer:5c. Wind Energy\n",
            "'int' object has no attribute 'sum'\n",
            "No values in either item period for tag: {tag_list[i]}\n",
            "No cases of tag HomeServices of Amer:5e. Environment\n",
            "'int' object has no attribute 'sum'\n",
            "No values in either item period for tag: {tag_list[i]}\n",
            "No cases of tag HomeServices of Amer:5g. Transmission\n",
            "'int' object has no attribute 'sum'\n",
            "No cases of tag HomeServices of Amer:5h. Customer Service\n",
            "'int' object has no attribute 'sum'\n",
            "No cases of tag HomeServices of Amer:5i. Safety\n",
            "'int' object has no attribute 'sum'\n",
            "No cases of tag HomeServices of Amer:5j. Power Outage\n",
            "'int' object has no attribute 'sum'\n",
            "No cases of tag HomeServices of Amer:5k. Community Relati\n",
            "'int' object has no attribute 'sum'\n",
            "No cases of tag HomeServices of Amer:5l. Security\n",
            "'int' object has no attribute 'sum'\n",
            "No cases of tag HomeServices of Amer:5m. Energy Efficienc\n",
            "'int' object has no attribute 'sum'\n",
            "No cases of tag HomeServices of Amer:5n. Other\n",
            "'int' object has no attribute 'sum'\n",
            "No values in either item period for tag: {tag_list[i]}\n",
            "No cases of tag HomeServices of Amer:5p. All Renewables\n",
            "'int' object has no attribute 'sum'\n"
          ]
        },
        {
          "output_type": "stream",
          "name": "stderr",
          "text": [
            "/usr/local/lib/python3.7/dist-packages/ipykernel_launcher.py:43: RuntimeWarning: divide by zero encountered in long_scalars\n",
            "/usr/local/lib/python3.7/dist-packages/ipykernel_launcher.py:43: RuntimeWarning: invalid value encountered in long_scalars\n"
          ]
        },
        {
          "output_type": "stream",
          "name": "stdout",
          "text": [
            "No values in either item period for tag: {tag_list[i]}\n"
          ]
        },
        {
          "output_type": "stream",
          "name": "stderr",
          "text": [
            "/usr/local/lib/python3.7/dist-packages/ipykernel_launcher.py:43: RuntimeWarning: divide by zero encountered in long_scalars\n",
            "/usr/local/lib/python3.7/dist-packages/ipykernel_launcher.py:43: RuntimeWarning: invalid value encountered in long_scalars\n",
            "/usr/local/lib/python3.7/dist-packages/ipykernel_launcher.py:43: RuntimeWarning: divide by zero encountered in long_scalars\n",
            "/usr/local/lib/python3.7/dist-packages/ipykernel_launcher.py:43: RuntimeWarning: invalid value encountered in long_scalars\n",
            "/usr/local/lib/python3.7/dist-packages/ipykernel_launcher.py:43: RuntimeWarning: invalid value encountered in long_scalars\n",
            "/usr/local/lib/python3.7/dist-packages/ipykernel_launcher.py:43: RuntimeWarning: divide by zero encountered in long_scalars\n",
            "/usr/local/lib/python3.7/dist-packages/ipykernel_launcher.py:43: RuntimeWarning: invalid value encountered in long_scalars\n",
            "/usr/local/lib/python3.7/dist-packages/ipykernel_launcher.py:43: RuntimeWarning: invalid value encountered in long_scalars\n",
            "/usr/local/lib/python3.7/dist-packages/ipykernel_launcher.py:43: RuntimeWarning: invalid value encountered in long_scalars\n",
            "/usr/local/lib/python3.7/dist-packages/ipykernel_launcher.py:43: RuntimeWarning: divide by zero encountered in long_scalars\n",
            "/usr/local/lib/python3.7/dist-packages/ipykernel_launcher.py:43: RuntimeWarning: invalid value encountered in long_scalars\n"
          ]
        },
        {
          "output_type": "stream",
          "name": "stdout",
          "text": [
            "No values in either item period for tag: {tag_list[i]}\n",
            "No values in either item period for tag: {tag_list[i]}\n",
            "No values in either item period for tag: {tag_list[i]}\n",
            "No values in either item period for tag: {tag_list[i]}\n",
            "No values in either item period for tag: {tag_list[i]}\n",
            "No values in either item period for tag: {tag_list[i]}\n",
            "No values in either item period for tag: {tag_list[i]}\n",
            "No values in either item period for tag: {tag_list[i]}\n",
            "No values in either item period for tag: {tag_list[i]}\n",
            "No values in either item period for tag: {tag_list[i]}\n",
            "No values in either item period for tag: {tag_list[i]}\n",
            "No values in either item period for tag: {tag_list[i]}\n",
            "No values in either item period for tag: {tag_list[i]}\n",
            "No values in either item period for tag: {tag_list[i]}\n",
            "No values in either item period for tag: {tag_list[i]}\n",
            "No values in either item period for tag: {tag_list[i]}\n",
            "No values in either item period for tag: {tag_list[i]}\n"
          ]
        },
        {
          "output_type": "stream",
          "name": "stderr",
          "text": [
            "/usr/local/lib/python3.7/dist-packages/ipykernel_launcher.py:43: RuntimeWarning: invalid value encountered in long_scalars\n",
            "/usr/local/lib/python3.7/dist-packages/ipykernel_launcher.py:43: RuntimeWarning: divide by zero encountered in long_scalars\n",
            "/usr/local/lib/python3.7/dist-packages/ipykernel_launcher.py:43: RuntimeWarning: invalid value encountered in long_scalars\n",
            "/usr/local/lib/python3.7/dist-packages/ipykernel_launcher.py:43: RuntimeWarning: invalid value encountered in long_scalars\n",
            "/usr/local/lib/python3.7/dist-packages/ipykernel_launcher.py:43: RuntimeWarning: divide by zero encountered in long_scalars\n",
            "/usr/local/lib/python3.7/dist-packages/ipykernel_launcher.py:43: RuntimeWarning: divide by zero encountered in long_scalars\n",
            "/usr/local/lib/python3.7/dist-packages/ipykernel_launcher.py:43: RuntimeWarning: invalid value encountered in long_scalars\n",
            "/usr/local/lib/python3.7/dist-packages/ipykernel_launcher.py:43: RuntimeWarning: divide by zero encountered in long_scalars\n",
            "/usr/local/lib/python3.7/dist-packages/ipykernel_launcher.py:43: RuntimeWarning: invalid value encountered in long_scalars\n",
            "/usr/local/lib/python3.7/dist-packages/ipykernel_launcher.py:43: RuntimeWarning: divide by zero encountered in long_scalars\n"
          ]
        },
        {
          "output_type": "stream",
          "name": "stdout",
          "text": [
            "No values in either item period for tag: {tag_list[i]}\n"
          ]
        },
        {
          "output_type": "stream",
          "name": "stderr",
          "text": [
            "/usr/local/lib/python3.7/dist-packages/ipykernel_launcher.py:43: RuntimeWarning: invalid value encountered in long_scalars\n"
          ]
        },
        {
          "output_type": "stream",
          "name": "stdout",
          "text": [
            "No values in either item period for tag: {tag_list[i]}\n"
          ]
        },
        {
          "output_type": "stream",
          "name": "stderr",
          "text": [
            "/usr/local/lib/python3.7/dist-packages/ipykernel_launcher.py:43: RuntimeWarning: divide by zero encountered in long_scalars\n",
            "/usr/local/lib/python3.7/dist-packages/ipykernel_launcher.py:43: RuntimeWarning: invalid value encountered in long_scalars\n"
          ]
        },
        {
          "output_type": "stream",
          "name": "stdout",
          "text": [
            "No values in either item period for tag: {tag_list[i]}\n",
            "No values in either item period for tag: {tag_list[i]}\n"
          ]
        },
        {
          "output_type": "stream",
          "name": "stderr",
          "text": [
            "/usr/local/lib/python3.7/dist-packages/ipykernel_launcher.py:43: RuntimeWarning: invalid value encountered in long_scalars\n"
          ]
        },
        {
          "output_type": "stream",
          "name": "stdout",
          "text": [
            "No values in either item period for tag: {tag_list[i]}\n",
            "No values in either item period for tag: {tag_list[i]}\n",
            "No values in either item period for tag: {tag_list[i]}\n"
          ]
        },
        {
          "output_type": "stream",
          "name": "stderr",
          "text": [
            "/usr/local/lib/python3.7/dist-packages/ipykernel_launcher.py:43: RuntimeWarning: divide by zero encountered in long_scalars\n",
            "/usr/local/lib/python3.7/dist-packages/ipykernel_launcher.py:43: RuntimeWarning: divide by zero encountered in long_scalars\n",
            "/usr/local/lib/python3.7/dist-packages/ipykernel_launcher.py:43: RuntimeWarning: invalid value encountered in long_scalars\n",
            "/usr/local/lib/python3.7/dist-packages/ipykernel_launcher.py:43: RuntimeWarning: invalid value encountered in long_scalars\n"
          ]
        },
        {
          "output_type": "stream",
          "name": "stdout",
          "text": [
            "No values in either item period for tag: {tag_list[i]}\n"
          ]
        },
        {
          "output_type": "stream",
          "name": "stderr",
          "text": [
            "/usr/local/lib/python3.7/dist-packages/ipykernel_launcher.py:43: RuntimeWarning: divide by zero encountered in long_scalars\n",
            "/usr/local/lib/python3.7/dist-packages/ipykernel_launcher.py:43: RuntimeWarning: invalid value encountered in long_scalars\n",
            "/usr/local/lib/python3.7/dist-packages/ipykernel_launcher.py:43: RuntimeWarning: invalid value encountered in long_scalars\n",
            "/usr/local/lib/python3.7/dist-packages/ipykernel_launcher.py:43: RuntimeWarning: divide by zero encountered in long_scalars\n",
            "/usr/local/lib/python3.7/dist-packages/ipykernel_launcher.py:43: RuntimeWarning: invalid value encountered in long_scalars\n",
            "/usr/local/lib/python3.7/dist-packages/ipykernel_launcher.py:43: RuntimeWarning: invalid value encountered in long_scalars\n"
          ]
        },
        {
          "output_type": "stream",
          "name": "stdout",
          "text": [
            "No values in either item period for tag: {tag_list[i]}\n"
          ]
        },
        {
          "output_type": "stream",
          "name": "stderr",
          "text": [
            "/usr/local/lib/python3.7/dist-packages/ipykernel_launcher.py:43: RuntimeWarning: invalid value encountered in long_scalars\n",
            "/usr/local/lib/python3.7/dist-packages/ipykernel_launcher.py:43: RuntimeWarning: invalid value encountered in long_scalars\n",
            "/usr/local/lib/python3.7/dist-packages/ipykernel_launcher.py:43: RuntimeWarning: invalid value encountered in long_scalars\n",
            "/usr/local/lib/python3.7/dist-packages/ipykernel_launcher.py:43: RuntimeWarning: invalid value encountered in long_scalars\n",
            "/usr/local/lib/python3.7/dist-packages/ipykernel_launcher.py:43: RuntimeWarning: divide by zero encountered in long_scalars\n",
            "/usr/local/lib/python3.7/dist-packages/ipykernel_launcher.py:43: RuntimeWarning: invalid value encountered in long_scalars\n",
            "/usr/local/lib/python3.7/dist-packages/ipykernel_launcher.py:43: RuntimeWarning: invalid value encountered in long_scalars\n",
            "/usr/local/lib/python3.7/dist-packages/ipykernel_launcher.py:43: RuntimeWarning: invalid value encountered in long_scalars\n",
            "/usr/local/lib/python3.7/dist-packages/ipykernel_launcher.py:43: RuntimeWarning: invalid value encountered in long_scalars\n",
            "/usr/local/lib/python3.7/dist-packages/ipykernel_launcher.py:43: RuntimeWarning: invalid value encountered in long_scalars\n",
            "/usr/local/lib/python3.7/dist-packages/ipykernel_launcher.py:43: RuntimeWarning: invalid value encountered in long_scalars\n",
            "/usr/local/lib/python3.7/dist-packages/ipykernel_launcher.py:43: RuntimeWarning: invalid value encountered in long_scalars\n"
          ]
        },
        {
          "output_type": "stream",
          "name": "stdout",
          "text": [
            "No values in either item period for tag: {tag_list[i]}\n"
          ]
        },
        {
          "output_type": "stream",
          "name": "stderr",
          "text": [
            "/usr/local/lib/python3.7/dist-packages/ipykernel_launcher.py:43: RuntimeWarning: invalid value encountered in long_scalars\n",
            "/usr/local/lib/python3.7/dist-packages/ipykernel_launcher.py:43: RuntimeWarning: divide by zero encountered in long_scalars\n",
            "/usr/local/lib/python3.7/dist-packages/ipykernel_launcher.py:43: RuntimeWarning: invalid value encountered in long_scalars\n",
            "/usr/local/lib/python3.7/dist-packages/ipykernel_launcher.py:43: RuntimeWarning: divide by zero encountered in long_scalars\n",
            "/usr/local/lib/python3.7/dist-packages/ipykernel_launcher.py:43: RuntimeWarning: invalid value encountered in long_scalars\n",
            "/usr/local/lib/python3.7/dist-packages/ipykernel_launcher.py:43: RuntimeWarning: invalid value encountered in long_scalars\n",
            "/usr/local/lib/python3.7/dist-packages/ipykernel_launcher.py:43: RuntimeWarning: divide by zero encountered in long_scalars\n",
            "/usr/local/lib/python3.7/dist-packages/ipykernel_launcher.py:43: RuntimeWarning: divide by zero encountered in long_scalars\n",
            "/usr/local/lib/python3.7/dist-packages/ipykernel_launcher.py:43: RuntimeWarning: invalid value encountered in long_scalars\n",
            "/usr/local/lib/python3.7/dist-packages/ipykernel_launcher.py:43: RuntimeWarning: divide by zero encountered in long_scalars\n",
            "/usr/local/lib/python3.7/dist-packages/ipykernel_launcher.py:43: RuntimeWarning: invalid value encountered in long_scalars\n",
            "/usr/local/lib/python3.7/dist-packages/ipykernel_launcher.py:43: RuntimeWarning: divide by zero encountered in long_scalars\n",
            "/usr/local/lib/python3.7/dist-packages/ipykernel_launcher.py:43: RuntimeWarning: invalid value encountered in long_scalars\n",
            "/usr/local/lib/python3.7/dist-packages/ipykernel_launcher.py:43: RuntimeWarning: divide by zero encountered in long_scalars\n",
            "/usr/local/lib/python3.7/dist-packages/ipykernel_launcher.py:43: RuntimeWarning: invalid value encountered in long_scalars\n",
            "/usr/local/lib/python3.7/dist-packages/ipykernel_launcher.py:43: RuntimeWarning: invalid value encountered in long_scalars\n",
            "/usr/local/lib/python3.7/dist-packages/ipykernel_launcher.py:43: RuntimeWarning: invalid value encountered in long_scalars\n",
            "/usr/local/lib/python3.7/dist-packages/ipykernel_launcher.py:43: RuntimeWarning: invalid value encountered in long_scalars\n",
            "/usr/local/lib/python3.7/dist-packages/ipykernel_launcher.py:43: RuntimeWarning: invalid value encountered in long_scalars\n",
            "/usr/local/lib/python3.7/dist-packages/ipykernel_launcher.py:43: RuntimeWarning: divide by zero encountered in long_scalars\n",
            "/usr/local/lib/python3.7/dist-packages/ipykernel_launcher.py:43: RuntimeWarning: divide by zero encountered in long_scalars\n",
            "/usr/local/lib/python3.7/dist-packages/ipykernel_launcher.py:43: RuntimeWarning: divide by zero encountered in long_scalars\n",
            "/usr/local/lib/python3.7/dist-packages/ipykernel_launcher.py:43: RuntimeWarning: invalid value encountered in long_scalars\n",
            "/usr/local/lib/python3.7/dist-packages/ipykernel_launcher.py:43: RuntimeWarning: invalid value encountered in long_scalars\n",
            "/usr/local/lib/python3.7/dist-packages/ipykernel_launcher.py:43: RuntimeWarning: invalid value encountered in long_scalars\n",
            "/usr/local/lib/python3.7/dist-packages/ipykernel_launcher.py:43: RuntimeWarning: invalid value encountered in long_scalars\n",
            "/usr/local/lib/python3.7/dist-packages/ipykernel_launcher.py:43: RuntimeWarning: invalid value encountered in long_scalars\n",
            "/usr/local/lib/python3.7/dist-packages/ipykernel_launcher.py:43: RuntimeWarning: invalid value encountered in long_scalars\n",
            "/usr/local/lib/python3.7/dist-packages/ipykernel_launcher.py:43: RuntimeWarning: invalid value encountered in long_scalars\n"
          ]
        },
        {
          "output_type": "stream",
          "name": "stdout",
          "text": [
            "No values in either item period for tag: {tag_list[i]}\n"
          ]
        },
        {
          "output_type": "stream",
          "name": "stderr",
          "text": [
            "/usr/local/lib/python3.7/dist-packages/ipykernel_launcher.py:43: RuntimeWarning: invalid value encountered in long_scalars\n"
          ]
        },
        {
          "output_type": "stream",
          "name": "stdout",
          "text": [
            "No values in either item period for tag: {tag_list[i]}\n",
            "No values in either item period for tag: {tag_list[i]}\n"
          ]
        },
        {
          "output_type": "stream",
          "name": "stderr",
          "text": [
            "/usr/local/lib/python3.7/dist-packages/ipykernel_launcher.py:43: RuntimeWarning: divide by zero encountered in long_scalars\n",
            "/usr/local/lib/python3.7/dist-packages/ipykernel_launcher.py:43: RuntimeWarning: invalid value encountered in long_scalars\n",
            "/usr/local/lib/python3.7/dist-packages/ipykernel_launcher.py:43: RuntimeWarning: invalid value encountered in long_scalars\n"
          ]
        },
        {
          "output_type": "stream",
          "name": "stdout",
          "text": [
            "No values in either item period for tag: {tag_list[i]}\n"
          ]
        },
        {
          "output_type": "stream",
          "name": "stderr",
          "text": [
            "/usr/local/lib/python3.7/dist-packages/ipykernel_launcher.py:43: RuntimeWarning: divide by zero encountered in long_scalars\n",
            "/usr/local/lib/python3.7/dist-packages/ipykernel_launcher.py:43: RuntimeWarning: invalid value encountered in long_scalars\n",
            "/usr/local/lib/python3.7/dist-packages/ipykernel_launcher.py:43: RuntimeWarning: invalid value encountered in long_scalars\n",
            "/usr/local/lib/python3.7/dist-packages/ipykernel_launcher.py:43: RuntimeWarning: invalid value encountered in long_scalars\n",
            "/usr/local/lib/python3.7/dist-packages/ipykernel_launcher.py:43: RuntimeWarning: invalid value encountered in long_scalars\n"
          ]
        },
        {
          "output_type": "stream",
          "name": "stdout",
          "text": [
            "No cases of tag BHE GT&S:5l. Security\n",
            "'int' object has no attribute 'sum'\n",
            "No cases of tag BHE GT&S:5m. Energy Efficienc\n",
            "'int' object has no attribute 'sum'\n",
            "No cases of tag BHE GT&S:5n. Other\n",
            "'int' object has no attribute 'sum'\n"
          ]
        },
        {
          "output_type": "stream",
          "name": "stderr",
          "text": [
            "/usr/local/lib/python3.7/dist-packages/ipykernel_launcher.py:43: RuntimeWarning: invalid value encountered in long_scalars\n"
          ]
        },
        {
          "output_type": "stream",
          "name": "stdout",
          "text": [
            "No values in either item period for tag: {tag_list[i]}\n",
            "No values in either item period for tag: {tag_list[i]}\n",
            "No values in either item period for tag: {tag_list[i]}\n",
            "No values in either item period for tag: {tag_list[i]}\n",
            "No values in either item period for tag: {tag_list[i]}\n",
            "No values in either item period for tag: {tag_list[i]}\n",
            "No values in either item period for tag: {tag_list[i]}\n",
            "No values in either item period for tag: {tag_list[i]}\n",
            "No values in either item period for tag: {tag_list[i]}\n",
            "No values in either item period for tag: {tag_list[i]}\n",
            "No values in either item period for tag: {tag_list[i]}\n",
            "No values in either item period for tag: {tag_list[i]}\n",
            "No cases of tag MidAmerican Services:5l. Security\n",
            "'int' object has no attribute 'sum'\n",
            "No cases of tag MidAmerican Services:5m. Energy Efficienc\n",
            "'int' object has no attribute 'sum'\n",
            "No cases of tag MidAmerican Services:5n. Other\n",
            "'int' object has no attribute 'sum'\n",
            "No values in either item period for tag: {tag_list[i]}\n",
            "No cases of tag MidAmerican Services:5p. All Renewables\n",
            "'int' object has no attribute 'sum'\n"
          ]
        }
      ]
    },
    {
      "cell_type": "code",
      "source": [
        "import pandas as pd\n",
        "import io\n",
        "\n",
        "def proactive_reactive_percent(total, proactive, reactive):\n",
        "\n",
        "  try:\n",
        "    proactive_percent = (proactive/total)*100\n",
        "  except ZeroDivisionError:\n",
        "    proactive_percent = 0\n",
        "  \n",
        "  try:\n",
        "    reactive_percent = (reactive/total)*100\n",
        "  except ZeroDivisionError:\n",
        "    reactive_percent = 0\n",
        "  \n",
        "  return proactive_percent, reactive_percent\n",
        "\n",
        "\n",
        "\n",
        "def proactive_reactive_by_tag(df):\n",
        "\n",
        "    #Call the topic list that we will need to filter by\n",
        "    topic = topic_name()\n",
        "    df.filter(items=topic, axis='columns')\n",
        "\n",
        "    #Create the output dataframe (not called output as that name is used in the main function loop)\n",
        "    dataframe = pd.DataFrame(columns=['Tag', 'Total', 'Proactive', 'Proactive %', 'Reactive', 'Reactive %',\n",
        "              'Proactive:Positive', 'Proactive:Neutral', 'Proactive:Negative',\n",
        "              'Reactive:Positive', 'Reactive:Neutral', 'Reactive:Negative'])\n",
        "\n",
        "    for i in range(len(topic)):\n",
        "        count = 0\n",
        "        proactive_positive_count = 0\n",
        "        proactive_neutral_count = 0\n",
        "        proactive_negative_count = 0\n",
        "        reactive_positive_count = 0\n",
        "        reactive_neutral_count = 0\n",
        "        reactive_negative_count = 0\n",
        "        for j in range(len(df)):\n",
        "            try:\n",
        "                if pd.notna(df.at[j, topic[i]]):\n",
        "                  #Count refereces the complete total of articles, both primary and syndicates \n",
        "                    count += 1\n",
        "                    if df.at[j, 'TVA:Proactive'] == 1:\n",
        "                        proactive_positive_count += 1\n",
        "                    elif df.at[j, 'TVA:Proactive'] < 0:\n",
        "                        proactive_negative_count += 1\n",
        "                    elif df.at[j, 'TVA:Proactive'] == 0:\n",
        "                        proactive_neutral_count += 1\n",
        "\n",
        "                    elif df.at[j, 'TVA:Reactive'] == 1:\n",
        "                        reactive_positive_count += 1\n",
        "                    elif df.at[j, 'TVA:Reactive'] < 0:\n",
        "                        reactive_negative_count += 1\n",
        "                    elif df.at[j, 'TVA:Reactive'] == 0:\n",
        "                        reactive_neutral_count += 1\n",
        "\n",
        "            except KeyError:\n",
        "              #In the case where the tag is not in use, 0 out all the values and add to the dataframe to ensure that we have some value to call on.\n",
        "              output = {'Tag' : topic[i], 'Total' : 0, 'Proactive' : 0, 'Proactive %' : 0, 'Reactive' : 0, \n",
        "                  'Reactive %' : 0, 'Proactive:Positive' : 0, 'Proactive:Neutral' : 0, 'Proactive:Negative' : 0,\n",
        "                 'Reactive:Positive' : 0, 'Reactive:Neutral' : 0, 'Reactive:Negative' : 0}\n",
        "              dataframe = dataframe.append(other=output, ignore_index=True)\n",
        "              i += 1\n",
        "            \n",
        "\n",
        "        proactive_total = proactive_positive_count + proactive_neutral_count + proactive_negative_count\n",
        "        reactive_total = reactive_positive_count + reactive_neutral_count + reactive_negative_count\n",
        "\n",
        "        proactive_percent, reactive_percent = proactive_reactive_percent(count, proactive_total, reactive_total)\n",
        "\n",
        "        # Dict to append to the dataframe\n",
        "        output = {'Tag' : topic[i], 'Total' : count, 'Proactive' : proactive_total, 'Proactive %' : proactive_percent, 'Reactive' : reactive_total, \n",
        "                  'Reactive %' : reactive_percent, 'Proactive:Positive' : proactive_positive_count, 'Proactive:Neutral' : proactive_neutral_count, 'Proactive:Negative' : proactive_negative_count,\n",
        "                 'Reactive:Positive' : reactive_positive_count, 'Reactive:Neutral' : reactive_neutral_count, 'Reactive:Negative' : reactive_negative_count}\n",
        "        dataframe = dataframe.append(other=output, ignore_index=True)\n",
        "\n",
        "    return dataframe\n",
        "def execute_proactive_reactive_by_tag(df):\n",
        "  data = proactive_reactive_by_tag(article_data)\n",
        "  data.to_csv(path_or_buf=r'proactive_reactive_output.csv')"
      ],
      "metadata": {
        "id": "mtDang1nWKwK"
      },
      "execution_count": null,
      "outputs": []
    }
  ]
}